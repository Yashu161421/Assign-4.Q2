{
 "cells": [
  {
   "cell_type": "code",
   "execution_count": 3,
   "id": "3cd910ac",
   "metadata": {},
   "outputs": [
    {
     "name": "stdout",
     "output_type": "stream",
     "text": [
      "enter a list: [1, 2, 3, 4, 5, 6, 7]\n",
      "Triple of list numbers: \n",
      "[3, 6, 9, 12, 15, 18, 21]\n"
     ]
    }
   ],
   "source": [
    "def triple_numbers(lst):\n",
    "    return list(map(lambda x: x * 3, lst))\n",
    "\n",
    "sample_list = eval(input(\"enter a list: \"))\n",
    "result = triple_numbers(sample_list)\n",
    "\n",
    "print(\"Triple of list numbers: \")\n",
    "print(result)"
   ]
  },
  {
   "cell_type": "code",
   "execution_count": null,
   "id": "3bf181ad",
   "metadata": {},
   "outputs": [],
   "source": []
  }
 ],
 "metadata": {
  "kernelspec": {
   "display_name": "Python 3 (ipykernel)",
   "language": "python",
   "name": "python3"
  },
  "language_info": {
   "codemirror_mode": {
    "name": "ipython",
    "version": 3
   },
   "file_extension": ".py",
   "mimetype": "text/x-python",
   "name": "python",
   "nbconvert_exporter": "python",
   "pygments_lexer": "ipython3",
   "version": "3.11.3"
  }
 },
 "nbformat": 4,
 "nbformat_minor": 5
}
